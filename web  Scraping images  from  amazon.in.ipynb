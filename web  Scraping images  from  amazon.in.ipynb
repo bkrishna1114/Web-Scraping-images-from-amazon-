{
 "cells": [
  {
   "cell_type": "markdown",
   "id": "dbd8576f",
   "metadata": {},
   "source": [
    "### Scraping all images from  amazon.in"
   ]
  },
  {
   "cell_type": "code",
   "execution_count": 13,
   "id": "dffde4bb",
   "metadata": {},
   "outputs": [],
   "source": [
    "import requests\n",
    "import os\n",
    "from bs4  import  BeautifulSoup"
   ]
  },
  {
   "cell_type": "code",
   "execution_count": 14,
   "id": "a0e91ffa",
   "metadata": {},
   "outputs": [],
   "source": [
    "url = 'https://www.amazon.in/s?k=mobiles&ref=nb_sb_noss_1'"
   ]
  },
  {
   "cell_type": "code",
   "execution_count": 15,
   "id": "4bc51021",
   "metadata": {},
   "outputs": [],
   "source": [
    "Data=  requests.get(url).text"
   ]
  },
  {
   "cell_type": "code",
   "execution_count": 16,
   "id": "66c51c49",
   "metadata": {},
   "outputs": [],
   "source": [
    "soup=BeautifulSoup(Data,'html5lib')\n",
    "imagelist=[]\n",
    "for image in soup.find_all('img'):\n",
    "    imagelist.append(image)\n",
    "    "
   ]
  },
  {
   "cell_type": "code",
   "execution_count": 17,
   "id": "bea78523",
   "metadata": {},
   "outputs": [],
   "source": [
    "for i,image in enumerate(imagelist):\n",
    "    try:\n",
    "        imageurl= requests.get(image.get('src'))\n",
    "        path = os.path.join(os.getcwd(),'amazon\\{}.png'.format(i))\n",
    "        with open(path,'wb') as  f:\n",
    "            f.write(imageurl.content)\n",
    "    except:\n",
    "        pass  #avoiding all errored urls.....\n",
    "    "
   ]
  },
  {
   "cell_type": "code",
   "execution_count": null,
   "id": "1ab93aa9",
   "metadata": {},
   "outputs": [],
   "source": []
  },
  {
   "cell_type": "code",
   "execution_count": null,
   "id": "838a3b7d",
   "metadata": {},
   "outputs": [],
   "source": []
  }
 ],
 "metadata": {
  "kernelspec": {
   "display_name": "Python 3",
   "language": "python",
   "name": "python3"
  },
  "language_info": {
   "codemirror_mode": {
    "name": "ipython",
    "version": 3
   },
   "file_extension": ".py",
   "mimetype": "text/x-python",
   "name": "python",
   "nbconvert_exporter": "python",
   "pygments_lexer": "ipython3",
   "version": "3.8.8"
  }
 },
 "nbformat": 4,
 "nbformat_minor": 5
}
